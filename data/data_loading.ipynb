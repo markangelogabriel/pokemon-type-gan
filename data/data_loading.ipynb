{
 "cells": [
  {
   "cell_type": "code",
   "execution_count": 1,
   "metadata": {},
   "outputs": [],
   "source": [
    "#pip install progressbar"
   ]
  },
  {
   "cell_type": "code",
   "execution_count": 2,
   "metadata": {},
   "outputs": [],
   "source": [
    "#pip install prettytensor"
   ]
  },
  {
   "cell_type": "code",
   "execution_count": 3,
   "metadata": {},
   "outputs": [],
   "source": [
    "#pip install python-dateutil"
   ]
  },
  {
   "cell_type": "code",
   "execution_count": 4,
   "metadata": {},
   "outputs": [],
   "source": [
    "#pip install easydict"
   ]
  },
  {
   "cell_type": "code",
   "execution_count": 5,
   "metadata": {},
   "outputs": [],
   "source": [
    "#pip install torchfile"
   ]
  },
  {
   "cell_type": "code",
   "execution_count": 6,
   "metadata": {},
   "outputs": [],
   "source": [
    "#pip install Pillow"
   ]
  },
  {
   "cell_type": "code",
   "execution_count": 7,
   "metadata": {},
   "outputs": [],
   "source": [
    "#pip install imageio"
   ]
  },
  {
   "cell_type": "code",
   "execution_count": 8,
   "metadata": {},
   "outputs": [],
   "source": [
    "#pip install scipy==1.2.2"
   ]
  },
  {
   "cell_type": "code",
   "execution_count": 9,
   "metadata": {},
   "outputs": [],
   "source": [
    "from __future__ import absolute_import\n",
    "from __future__ import division\n",
    "from __future__ import print_function\n",
    "from __future__ import unicode_literals"
   ]
  },
  {
   "cell_type": "code",
   "execution_count": 10,
   "metadata": {},
   "outputs": [],
   "source": [
    "# import tensorflow as tf\n",
    "import numpy as np\n",
    "import os\n",
    "import pickle\n",
    "from utils import get_image\n",
    "import scipy.misc\n",
    "from PIL import Image"
   ]
  },
  {
   "cell_type": "code",
   "execution_count": 11,
   "metadata": {},
   "outputs": [],
   "source": [
    "LR_HR_RETIO = 4\n",
    "IMSIZE = 256\n",
    "LOAD_SIZE = int(IMSIZE * 76 / 64)\n",
    "FLOWER_DIR = 'flowers'"
   ]
  },
  {
   "cell_type": "code",
   "execution_count": 12,
   "metadata": {},
   "outputs": [],
   "source": [
    "def load_filenames(data_dir):\n",
    "    filepath = data_dir + 'filenames.pickle'\n",
    "    with open(filepath, 'rb') as f:\n",
    "        filenames = pickle.load(f)\n",
    "    print('Load filenames from: %s (%d)' % (filepath, len(filenames)))\n",
    "    return filenames"
   ]
  },
  {
   "cell_type": "code",
   "execution_count": 13,
   "metadata": {},
   "outputs": [],
   "source": [
    "def save_data_list(inpath, outpath, filenames):\n",
    "    hr_images = []\n",
    "    lr_images = []\n",
    "    lr_size = int(LOAD_SIZE / LR_HR_RETIO)\n",
    "    cnt = 0\n",
    "    for key in filenames:\n",
    "        f_name = '%s/%s.jpg' % (inpath, key)\n",
    "        img = get_image(f_name, LOAD_SIZE, is_crop=False)\n",
    "        img = img.astype('uint8')\n",
    "        hr_images.append(img)\n",
    "        #lr_img = scipy.misc.imresize(img, [lr_size, lr_size], 'bicubic')\n",
    "        lr_img = np.array(Image.fromarray(img.astype(np.uint8)).resize((lr_size, lr_size), Image.BICUBIC))\n",
    "        lr_images.append(lr_img)\n",
    "        cnt += 1\n",
    "        if cnt % 100 == 0:\n",
    "            print('Load %d......' % cnt)\n",
    "    #\n",
    "    print('images', len(hr_images), hr_images[0].shape, lr_images[0].shape)\n",
    "    #\n",
    "    outfile = outpath + str(LOAD_SIZE) + 'images.pickle'\n",
    "    with open(outfile, 'wb') as f_out:\n",
    "        pickle.dump(hr_images, f_out)\n",
    "        print('save to: ', outfile)\n",
    "    #\n",
    "    outfile = outpath + str(lr_size) + 'images.pickle'\n",
    "    with open(outfile, 'wb') as f_out:\n",
    "        pickle.dump(lr_images, f_out)\n",
    "        print('save to: ', outfile)"
   ]
  },
  {
   "cell_type": "code",
   "execution_count": 14,
   "metadata": {},
   "outputs": [],
   "source": [
    "def convert_flowers_dataset_pickle(inpath):\n",
    "    # ## For Train data\n",
    "    train_dir = os.path.join(inpath, 'train/')\n",
    "    train_filenames = load_filenames(train_dir)\n",
    "    save_data_list(inpath, train_dir, train_filenames)\n",
    "\n",
    "    # ## For Test data\n",
    "    test_dir = os.path.join(inpath, 'test/')\n",
    "    test_filenames = load_filenames(test_dir)\n",
    "    save_data_list(inpath, test_dir, test_filenames)"
   ]
  },
  {
   "cell_type": "code",
   "execution_count": 15,
   "metadata": {},
   "outputs": [
    {
     "name": "stdout",
     "output_type": "stream",
     "text": [
      "Load filenames from: flowers/train/filenames.pickle (7034)\n",
      "Load 100......\n",
      "Load 200......\n",
      "Load 300......\n",
      "Load 400......\n",
      "Load 500......\n",
      "Load 600......\n",
      "Load 700......\n",
      "Load 800......\n",
      "Load 900......\n",
      "Load 1000......\n",
      "Load 1100......\n",
      "Load 1200......\n",
      "Load 1300......\n",
      "Load 1400......\n",
      "Load 1500......\n",
      "Load 1600......\n",
      "Load 1700......\n",
      "Load 1800......\n",
      "Load 1900......\n",
      "Load 2000......\n",
      "Load 2100......\n",
      "Load 2200......\n",
      "Load 2300......\n",
      "Load 2400......\n",
      "Load 2500......\n",
      "Load 2600......\n",
      "Load 2700......\n",
      "Load 2800......\n",
      "Load 2900......\n",
      "Load 3000......\n",
      "Load 3100......\n",
      "Load 3200......\n",
      "Load 3300......\n",
      "Load 3400......\n",
      "Load 3500......\n",
      "Load 3600......\n",
      "Load 3700......\n",
      "Load 3800......\n",
      "Load 3900......\n",
      "Load 4000......\n",
      "Load 4100......\n",
      "Load 4200......\n",
      "Load 4300......\n",
      "Load 4400......\n",
      "Load 4500......\n",
      "Load 4600......\n",
      "Load 4700......\n",
      "Load 4800......\n",
      "Load 4900......\n",
      "Load 5000......\n",
      "Load 5100......\n",
      "Load 5200......\n",
      "Load 5300......\n",
      "Load 5400......\n",
      "Load 5500......\n",
      "Load 5600......\n",
      "Load 5700......\n",
      "Load 5800......\n",
      "Load 5900......\n",
      "Load 6000......\n",
      "Load 6100......\n",
      "Load 6200......\n",
      "Load 6300......\n",
      "Load 6400......\n",
      "Load 6500......\n",
      "Load 6600......\n",
      "Load 6700......\n",
      "Load 6800......\n",
      "Load 6900......\n",
      "Load 7000......\n",
      "images 7034 (304, 304, 3) (76, 76, 3)\n",
      "save to:  flowers/train/304images.pickle\n",
      "save to:  flowers/train/76images.pickle\n",
      "Load filenames from: flowers/test/filenames.pickle (1155)\n",
      "Load 100......\n",
      "Load 200......\n",
      "Load 300......\n",
      "Load 400......\n",
      "Load 500......\n",
      "Load 600......\n",
      "Load 700......\n",
      "Load 800......\n",
      "Load 900......\n",
      "Load 1000......\n",
      "Load 1100......\n",
      "images 1155 (304, 304, 3) (76, 76, 3)\n",
      "save to:  flowers/test/304images.pickle\n",
      "save to:  flowers/test/76images.pickle\n"
     ]
    }
   ],
   "source": [
    "if __name__ == '__main__':\n",
    "    convert_flowers_dataset_pickle(FLOWER_DIR)"
   ]
  },
  {
   "cell_type": "code",
   "execution_count": null,
   "metadata": {},
   "outputs": [],
   "source": []
  },
  {
   "cell_type": "code",
   "execution_count": null,
   "metadata": {},
   "outputs": [],
   "source": []
  },
  {
   "cell_type": "code",
   "execution_count": null,
   "metadata": {},
   "outputs": [],
   "source": []
  }
 ],
 "metadata": {
  "kernelspec": {
   "display_name": "Python 3",
   "language": "python",
   "name": "python3"
  },
  "language_info": {
   "codemirror_mode": {
    "name": "ipython",
    "version": 3
   },
   "file_extension": ".py",
   "mimetype": "text/x-python",
   "name": "python",
   "nbconvert_exporter": "python",
   "pygments_lexer": "ipython3",
   "version": "3.8.3"
  }
 },
 "nbformat": 4,
 "nbformat_minor": 4
}
